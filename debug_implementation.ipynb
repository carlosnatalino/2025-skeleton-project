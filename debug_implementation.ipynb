{
 "cells": [
  {
   "cell_type": "markdown",
   "metadata": {},
   "source": [
    "# Example project for the final project of the EEN060/EEN065 courses\n",
    "\n",
    "## Debugging the implementation\n",
    "\n",
    "This file is meant to help students debug their code.\n",
    "\n",
    "Copy and paste the content of your functions in the cells below to run them independent of the application."
   ]
  },
  {
   "cell_type": "code",
   "execution_count": 10,
   "metadata": {},
   "outputs": [
    {
     "name": "stdout",
     "output_type": "stream",
     "text": [
      "The autoreload extension is already loaded. To reload it, use:\n",
      "  %reload_ext autoreload\n"
     ]
    }
   ],
   "source": [
    "%load_ext autoreload"
   ]
  },
  {
   "cell_type": "code",
   "execution_count": 11,
   "metadata": {},
   "outputs": [],
   "source": [
    "%autoreload 2\n",
    "from codeapp import create_app, db\n",
    "from codeapp.utils import get_data_list, calculate_statistics\n",
    "\n",
    "app = create_app()"
   ]
  },
  {
   "cell_type": "markdown",
   "metadata": {},
   "source": [
    "### 1. get_data_list() function\n",
    "\n",
    "The code below calls the function and shows a representative number of results."
   ]
  },
  {
   "cell_type": "code",
   "execution_count": 12,
   "metadata": {},
   "outputs": [
    {
     "name": "stderr",
     "output_type": "stream",
     "text": [
      "[2025-03-21 16:20:31,024] [INFO] [codeapp] [utils:24] - Dataset already downloaded. 9668 items in the database\n",
      "[2025-03-21 16:20:31,258] [INFO] [codeapp] [utils:32] - Downloaded 9668 items from the database.\n"
     ]
    },
    {
     "name": "stdout",
     "output_type": "stream",
     "text": [
      "Got a return of type `<class 'list'>`.\n",
      "Got back 9668 data points.\n",
      "Here are a few:\n",
      "Show(id='s4867', type='Movie', title='The Tell Tale Heart', director='Ernest Morris', cast='Laurence Payne, Adrienne Corri, Dermot Walsh', country=None, date_added=None, release_year=2021, duration='80 min', listed_in='Horror, Suspense', description='Terrifying hallucinations haunt a man after killing his best friend in a jealous rage.', rating='18+')\n",
      "Show(id='s788', type='Movie', title='Texas Legionaires', director='Joseph Kane', cast=\"Trigger, Bob Nolan, Sons of the Pioneers, Ruth Terry, Paul Kelly, Ann Gillis, George Cleveland, Pat Brady, Renie Riano, Paul Harvey, Hank Bell, Jay Novello, Wally Wales, Roy Barcroft, Ellsworth Blake, Bob Burns, Roy Butler, Ken Carson, Frank Ellis, Hugh Farr, Karl Farr, Charles Morton, Jack O'Shea, Tom Smith, Tim Spencer, Slim Whitaker\", country=None, date_added=None, release_year=1943, duration='55 min', listed_in='Western', description='Roy returns home to find a range feud between the cattlemen and the sheepmen.', rating='13+')\n",
      "Show(id='s9528', type='Movie', title='The Lazarus Effect', director='David Gelb', cast='Mark Duplass, Olivia Wilde, Sarah Bolger, Evan Peters, Donald Glover, Ray Wise', country=None, date_added=None, release_year=2015, duration='83 min', listed_in='Horror, Science Fiction, Suspense', description='A group of medical researchers discover a way to bring dead patients back to life.', rating='PG-13')\n",
      "Show(id='s5610', type='Movie', title='Unishe April', director='Rituparno Ghosh', cast='Prosenjit Chatterjee, Debashree Roy, Aparna Sen, Dipankar Dey, Chitra Sen, Bodhisattwa Majumdar', country=None, date_added=None, release_year=1996, duration='133 min', listed_in='Romance', description='Aditi loses her father when she is eight years old. Her mother Sorojini Gupta, was not at home when he died. Sorojini is a dancer who is away performing at the time of the incident.', rating='18+')\n",
      "Show(id='s749', type='Movie', title='The Beautician And The Beast', director='Ken Kwapis', cast='Fran Drescher, Timothy Dalton, Ian McNeice', country=None, date_added=None, release_year=1997, duration='107 min', listed_in='Comedy', description='A New York cosmetologist mistakenly thought to be a science teacher is offered a job to teach the children of an Eastern European dictator.', rating='PG')\n",
      "Show(id='s3639', type='Movie', title='Exit Speed', director='Scott Ziehl', cast='Desmond Harrington, Lea Thompson, Julie Mond, Fred Ward', country=None, date_added=None, release_year=2020, duration='91 min', listed_in='Action, Suspense', description='Ten strangers aboard a bus are forced off the road by a nomadic biker gang. Taking refuge in an abandoned scrap yard, they use improvised weapons, adrenaline and sheer guts to mount a defense against the murderous bikers. As their numbers dwindle, they realize that their survival depends on doing the unthinkable - fighting for their lives!', rating='18+')\n",
      "Show(id='s4260', type='TV Show', title='BLADER season1', director=None, cast='Sarah Zeema, Roberta Sparta, Grant Gerber, Antuone Torbert, Yvonne Lu, James Hardy, Sebastian \"Sonny\" Onorati', country=None, date_added=None, release_year=2018, duration='1 Season', listed_in='Science Fiction', description=\"Ultimate AI Kane defines human beings as an inferior existence and creates various monsters, getting the society into confusion. What standing against Bri's threats is a mysterious metal hero - Brader. Nobody knows this hero is actually a 16-year-old girl.\", rating='13+')\n",
      "Show(id='s1006', type='TV Show', title='Silver and Gold', director=None, cast=None, country=None, date_added=None, release_year=2017, duration='1 Season', listed_in='TV Shows', description='Tetsuo Morita (Sosuke Ikematsu), a good-for-nothing guy, gambles to vent his anger towards life. Dead broke, he meets Ginji Hirai, a bigtime fixer. Tetsuo admires his evilness and talents, which allow him to make big money. Morita aspires to surpass Ginji and turns to crime. A psychological warfare over big money between evil and evil. Can Tetsuo become a successful fixer?\\nCopyright: TV TOKYO', rating='TV-NR')\n",
      "Show(id='s3995', type='Movie', title='Stay', director='Brandon Walker', cast='Ashley Park, Jesse LeNoir, Dre Davis, Simone Posey, Alisa Levinson, Daz Crawford, Robert Palmer Watkins', country=None, date_added=None, release_year=2021, duration='82 min', listed_in='Horror, Suspense', description='In the city that never sleeps, Olivia is taking the modeling world by storm. With her YouTube audience along for the ride, a shocking discovery leads to a terrifying battle for her soul.', rating='16+')\n",
      "Show(id='s2160', type='TV Show', title='Hustle', director=None, cast='Robert Glenister, Robert Vaughn, Rob Jarvis, Adrian Lester, Marc Warren, Jaime Murray, Matt Di Angelo, Kelly Adams, Bill Bailey', country=None, date_added=None, release_year=2012, duration='8 Seasons', listed_in='Action, Comedy, Drama', description=\"An action-packed blend of humour and intrigue, following the fortunes of a gang of expert cons on the loose in London. They are specialists in the way of the grifter and all are keen to liberate cash from the amoral and undeserving. From faking film sets and expensive paintings to double-crossing the duplicitous head of a bank's security system. The con is on.\", rating='16+')\n"
     ]
    }
   ],
   "source": [
    "import random\n",
    "# delete the database\n",
    "# db.delete(\"dataset_list\")\n",
    "# call the function\n",
    "with app.app_context():\n",
    "    data = get_data_list()\n",
    "    print(f\"Got a return of type `{type(data)}`.\")\n",
    "    if isinstance(data, list):\n",
    "        print(f\"Got back {len(data)} data points.\")\n",
    "\n",
    "    print(\"Here are a few:\")\n",
    "    for item in random.sample(data, k=10):\n",
    "        print(item)"
   ]
  },
  {
   "cell_type": "markdown",
   "metadata": {},
   "source": [
    "### 2. calculate_statistics() function\n",
    "\n",
    "The code below calls the function and shows the returned results."
   ]
  },
  {
   "cell_type": "code",
   "execution_count": 13,
   "metadata": {},
   "outputs": [
    {
     "name": "stderr",
     "output_type": "stream",
     "text": [
      "[2025-03-21 16:20:31,306] [INFO] [codeapp] [utils:24] - Dataset already downloaded. 9668 items in the database\n",
      "[2025-03-21 16:20:31,598] [INFO] [codeapp] [utils:32] - Downloaded 9668 items from the database.\n",
      "[2025-03-21 16:20:31,604] [INFO] [codeapp] [utils:117] - The statistics have 100 items.\n"
     ]
    },
    {
     "name": "stdout",
     "output_type": "stream",
     "text": [
      "Got a return of type `<class 'list'>`.\n",
      "Got back 9668 data points.\n",
      "Got a return of type `<class 'collections.defaultdict'>`.\n",
      "Got back 100 statistics.\n",
      "Here they are:\n",
      "2014 = 391\n",
      "2018 = 623\n",
      "2017 = 562\n",
      "1989 = 45\n",
      "2016 = 521\n",
      "1994 = 63\n",
      "2020 = 962\n",
      "2019 = 929\n",
      "2008 = 171\n",
      "2001 = 82\n",
      "1941 = 22\n",
      "1991 = 45\n",
      "2005 = 112\n",
      "2015 = 378\n",
      "2011 = 252\n",
      "2013 = 289\n",
      "1949 = 14\n",
      "2007 = 176\n",
      "2002 = 92\n",
      "1955 = 9\n",
      "1959 = 18\n",
      "1983 = 17\n",
      "2009 = 149\n",
      "2012 = 252\n",
      "2010 = 186\n",
      "1986 = 40\n",
      "1988 = 44\n",
      "1920 = 3\n",
      "1936 = 29\n",
      "1992 = 56\n",
      "2021 = 1442\n",
      "1993 = 57\n",
      "2006 = 138\n",
      "1948 = 15\n",
      "1946 = 21\n",
      "1944 = 12\n",
      "1935 = 15\n",
      "1985 = 28\n",
      "1937 = 24\n",
      "1970 = 25\n",
      "1945 = 14\n",
      "1939 = 21\n",
      "1996 = 62\n",
      "1997 = 59\n",
      "1974 = 24\n",
      "1938 = 15\n",
      "1978 = 23\n",
      "2004 = 103\n",
      "1943 = 21\n",
      "1975 = 27\n",
      "1960 = 12\n",
      "1934 = 12\n",
      "1940 = 16\n",
      "1961 = 11\n",
      "2003 = 81\n",
      "2000 = 81\n",
      "1967 = 17\n",
      "1995 = 72\n",
      "1951 = 18\n",
      "1932 = 8\n",
      "1999 = 64\n",
      "1963 = 20\n",
      "1969 = 16\n",
      "1952 = 16\n",
      "1947 = 22\n",
      "1929 = 4\n",
      "1990 = 40\n",
      "1925 = 8\n",
      "1968 = 19\n",
      "1987 = 33\n",
      "1942 = 16\n",
      "1979 = 16\n",
      "1980 = 25\n",
      "1981 = 22\n",
      "1976 = 12\n",
      "1966 = 10\n",
      "1973 = 17\n",
      "1956 = 17\n",
      "1972 = 20\n",
      "1950 = 21\n",
      "1953 = 21\n",
      "1982 = 17\n",
      "1977 = 14\n",
      "1933 = 5\n",
      "1958 = 15\n",
      "1984 = 28\n",
      "1998 = 59\n",
      "1924 = 1\n",
      "1922 = 2\n",
      "1926 = 2\n",
      "1954 = 15\n",
      "1930 = 5\n",
      "1971 = 16\n",
      "1965 = 9\n",
      "1931 = 3\n",
      "1923 = 1\n",
      "1962 = 12\n",
      "1964 = 13\n",
      "1957 = 5\n",
      "1927 = 1\n"
     ]
    }
   ],
   "source": [
    "with app.app_context():\n",
    "    dataset = get_data_list()\n",
    "    print(f\"Got a return of type `{type(dataset)}`.\")\n",
    "    if isinstance(dataset, list):\n",
    "        print(f\"Got back {len(data)} data points.\")\n",
    "\n",
    "    stats = calculate_statistics(dataset)\n",
    "    print(f\"Got a return of type `{type(stats)}`.\")\n",
    "    print(f\"Got back {len(stats)} statistics.\")\n",
    "    print(\"Here they are:\")\n",
    "    for key, value in stats.items():\n",
    "        print(key, \"=\", value)"
   ]
  },
  {
   "cell_type": "code",
   "execution_count": 14,
   "metadata": {},
   "outputs": [],
   "source": [
    "del app"
   ]
  }
 ],
 "metadata": {
  "kernelspec": {
   "display_name": "venv",
   "language": "python",
   "name": "python3"
  },
  "language_info": {
   "codemirror_mode": {
    "name": "ipython",
    "version": 3
   },
   "file_extension": ".py",
   "mimetype": "text/x-python",
   "name": "python",
   "nbconvert_exporter": "python",
   "pygments_lexer": "ipython3",
   "version": "3.13.1"
  }
 },
 "nbformat": 4,
 "nbformat_minor": 2
}
